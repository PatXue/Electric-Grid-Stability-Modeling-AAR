{
 "cells": [
  {
   "cell_type": "code",
   "execution_count": 2,
   "metadata": {},
   "outputs": [],
   "source": [
    "import pandas as pd"
   ]
  },
  {
   "cell_type": "code",
   "execution_count": 3,
   "metadata": {},
   "outputs": [],
   "source": [
    "var_names = [\"demand\", \"trans\", \"storage\", \"inertia\", \"solar\"]"
   ]
  },
  {
   "cell_type": "code",
   "execution_count": 28,
   "metadata": {},
   "outputs": [],
   "source": [
    "# Normalize parameter values\n",
    "for i in range(len(var_names)):\n",
    "    for j in range(i+1, len(var_names)):\n",
    "        var1 = var_names[i]\n",
    "        var2 = var_names[j]\n",
    "        filename = var1 + \"-\" + var2 + \".csv\"\n",
    "        raw_data = pd.read_csv(\"../Data/Raw Data/\" + filename, names=[var1, var2, \"freq\"])\n",
    "\n",
    "        if \"demand\" in raw_data.columns:\n",
    "            raw_data[\"demand\"] = 1 - raw_data[\"demand\"]\n",
    "        if \"solar\" in raw_data.columns:\n",
    "            raw_data[\"solar\"] -= 1\n",
    "        if \"trans\" in raw_data.columns:\n",
    "            raw_data[\"trans\"] /= 50000\n",
    "        \n",
    "        raw_data.to_csv(\"../Data/Normalized Data/\" + filename, index=False)"
   ]
  },
  {
   "cell_type": "code",
   "execution_count": 4,
   "metadata": {},
   "outputs": [],
   "source": [
    "# Add column headers to raw data csv files\n",
    "for i in range(len(var_names)):\n",
    "    for j in range(i+1, len(var_names)):\n",
    "        var1 = var_names[i]\n",
    "        var2 = var_names[j]\n",
    "        filename = var1 + \"-\" + var2 + \".csv\"\n",
    "        raw_data = pd.read_csv(\"../Data/Raw Data/\" + filename, names=[var1, var2, \"freq\"])\n",
    "\n",
    "        raw_data.to_csv(\"../Data/Raw Data/\" + filename, index=False)"
   ]
  },
  {
   "cell_type": "code",
   "execution_count": 7,
   "metadata": {},
   "outputs": [],
   "source": [
    "# Consolidate raw and normalized data into 2 csv files\n",
    "# Done to make it easier to import into Google Sheets\n",
    "filename = \"inertia-solar.csv\"\n",
    "\n",
    "raw_data = pd.read_csv(\"../Data/Raw Data/\" + filename)\n",
    "norm_data = pd.read_csv(\"../Data/Normalized Data/\" + filename)\n",
    "raw_data.insert(0, \"Inertia & Solar\", None)\n",
    "norm_data.insert(0, \"Inertia & Solar\", None)\n",
    "\n",
    "for i in range(len(var_names)-1):\n",
    "    for j in range(i+1, len(var_names)):\n",
    "        var1 = var_names[i]\n",
    "        var2 = var_names[j]\n",
    "        filename = var1 + \"-\" + var2 + \".csv\"\n",
    "\n",
    "        # Add an empty separator column\n",
    "        raw_data[var1.capitalize() + \" & \" + var2.capitalize()] = None\n",
    "        norm_data[var1.capitalize() + \" & \" + var2.capitalize()] = None\n",
    "\n",
    "        raw_data = pd.concat([raw_data, pd.read_csv(\"../Data/Raw Data/\" + filename)], axis=1)\n",
    "        norm_data = pd.concat([norm_data, pd.read_csv(\"../Data/Normalized Data/\" + filename)], axis=1)\n",
    "\n",
    "raw_data.to_csv(\"../Data/Consolidated Data/raw-data.csv\", index=False)\n",
    "norm_data.to_csv(\"../Data/Consolidated Data/normalized-data.csv\", index=False)"
   ]
  }
 ],
 "metadata": {
  "kernelspec": {
   "display_name": "aar-env",
   "language": "python",
   "name": "python3"
  },
  "language_info": {
   "codemirror_mode": {
    "name": "ipython",
    "version": 3
   },
   "file_extension": ".py",
   "mimetype": "text/x-python",
   "name": "python",
   "nbconvert_exporter": "python",
   "pygments_lexer": "ipython3",
   "version": "3.10.9"
  },
  "orig_nbformat": 4
 },
 "nbformat": 4,
 "nbformat_minor": 2
}
