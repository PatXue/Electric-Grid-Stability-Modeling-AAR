{
 "cells": [
  {
   "cell_type": "code",
   "execution_count": 26,
   "metadata": {},
   "outputs": [],
   "source": [
    "import pandas as pd"
   ]
  },
  {
   "cell_type": "code",
   "execution_count": 27,
   "metadata": {},
   "outputs": [],
   "source": [
    "var_names = [\"demand\", \"trans\", \"storage\", \"inertia\", \"solar\"]"
   ]
  },
  {
   "cell_type": "code",
   "execution_count": 28,
   "metadata": {},
   "outputs": [],
   "source": [
    "for i in range(len(var_names)):\n",
    "    for j in range(i+1, len(var_names)):\n",
    "        var1 = var_names[i]\n",
    "        var2 = var_names[j]\n",
    "        filename = var1 + \"-\" + var2 + \".csv\"\n",
    "        raw_data = pd.read_csv(\"../Data/Raw Data/\" + filename, names=[var1, var2, \"freq\"])\n",
    "\n",
    "        if \"demand\" in raw_data.columns:\n",
    "            raw_data[\"demand\"] = 1 - raw_data[\"demand\"]\n",
    "        if \"solar\" in raw_data.columns:\n",
    "            raw_data[\"solar\"] -= 1\n",
    "        if \"trans\" in raw_data.columns:\n",
    "            raw_data[\"trans\"] /= 50000\n",
    "        \n",
    "        raw_data.to_csv(\"../Data/Normalized Data/\" + filename, index=False)"
   ]
  }
 ],
 "metadata": {
  "kernelspec": {
   "display_name": "aar-env",
   "language": "python",
   "name": "python3"
  },
  "language_info": {
   "codemirror_mode": {
    "name": "ipython",
    "version": 3
   },
   "file_extension": ".py",
   "mimetype": "text/x-python",
   "name": "python",
   "nbconvert_exporter": "python",
   "pygments_lexer": "ipython3",
   "version": "3.10.9"
  },
  "orig_nbformat": 4
 },
 "nbformat": 4,
 "nbformat_minor": 2
}
