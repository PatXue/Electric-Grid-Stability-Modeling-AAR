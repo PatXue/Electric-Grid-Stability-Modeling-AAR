{
 "cells": [
  {
   "cell_type": "code",
   "execution_count": 1,
   "metadata": {},
   "outputs": [],
   "source": [
    "import numpy as np\n",
    "import matplotlib\n",
    "import matplotlib.pyplot as plt"
   ]
  },
  {
   "cell_type": "code",
   "execution_count": 12,
   "metadata": {},
   "outputs": [],
   "source": [
    "var_names = [\"demand\", \"trans\", \"storage\", \"inertia\", \"solar\"]\n",
    "axis_names = [\"Final Demand\", \"Transmission Line Cap\", \"Storage Capacity\", \"Inertia Constant (s)\", \"Solar Capacity\"]"
   ]
  },
  {
   "cell_type": "code",
   "execution_count": 14,
   "metadata": {},
   "outputs": [
    {
     "data": {
      "text/plain": [
       "<Figure size 640x480 with 0 Axes>"
      ]
     },
     "metadata": {},
     "output_type": "display_data"
    }
   ],
   "source": [
    "i = 0\n",
    "j = 1\n",
    "\n",
    "data = np.loadtxt(\"../Data/Normalized Data/\" + var_names[i] + \"-\" + var_names[j] + \".csv\",delimiter=\",\",skiprows=1)\n",
    "x_data = data[::5,0]\n",
    "y_data = data[::5,-1]\n",
    "\n",
    "plt.plot(x_data, y_data, \"bo\")\n",
    "plt.xlabel(axis_names[i])\n",
    "plt.ylabel(\"Change in Frequency (Hz)\")\n",
    "\n",
    "plt.savefig(\"Graphs/Individual Plots/\" + var_names[i] + \".png\")\n",
    "plt.clf()\n",
    "\n",
    "for j in range(1,len(var_names)):\n",
    "    data = np.loadtxt(\"../Data/Normalized Data/\" + var_names[i] + \"-\" + var_names[j] + \".csv\",delimiter=\",\",skiprows=1)\n",
    "    x_data = data[-5:,1]\n",
    "    y_data = data[-5:,-1]\n",
    "\n",
    "    plt.plot(x_data, y_data, \"bo\")\n",
    "    plt.xlabel(axis_names[j])\n",
    "    plt.ylabel(\"Change in Frequency (Hz)\")\n",
    "\n",
    "    plt.savefig(\"Graphs/Individual Plots/\" + var_names[j] + \".png\")\n",
    "    plt.clf()"
   ]
  }
 ],
 "metadata": {
  "kernelspec": {
   "display_name": "aar-env",
   "language": "python",
   "name": "python3"
  },
  "language_info": {
   "codemirror_mode": {
    "name": "ipython",
    "version": 3
   },
   "file_extension": ".py",
   "mimetype": "text/x-python",
   "name": "python",
   "nbconvert_exporter": "python",
   "pygments_lexer": "ipython3",
   "version": "3.10.9"
  },
  "orig_nbformat": 4
 },
 "nbformat": 4,
 "nbformat_minor": 2
}
